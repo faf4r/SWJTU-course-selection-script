{
 "cells": [
  {
   "cell_type": "markdown",
   "metadata": {},
   "source": [
    "# 注意：因为使用了notebook，所以每个线程就不阻塞了，这样就没法中断内核只能重启了。如果要选的课较多，自己注意选课策略或线程管理\n",
    "线程开多了可能中断内核等操作会不成功等等，这样就只能重启内核了"
   ]
  },
  {
   "cell_type": "code",
   "execution_count": null,
   "metadata": {},
   "outputs": [],
   "source": [
    "from User import User\n",
    "from config import *\n",
    "import threading\n",
    "\n",
    "# 先创建用户并登录，用jupyter notebook就是为了这里登录后，下面有问题可以快速调整，不重新登陆\n",
    "user = User(username, password, config)"
   ]
  },
  {
   "cell_type": "markdown",
   "metadata": {},
   "source": [
    "# usage\n",
    "先删除必要的课程，自行确定好要选的课程，收集teachId，然后选课"
   ]
  },
  {
   "cell_type": "markdown",
   "metadata": {},
   "source": [
    "# 删除冲突选课(相同课程或时间冲突的选课，自己提前调研好然后确定删啥)"
   ]
  },
  {
   "cell_type": "code",
   "execution_count": null,
   "metadata": {},
   "outputs": [],
   "source": [
    "# delete course by chooseId(课程编号，如B2492)\n",
    "delete_courses = ['B1323']  # 要删除的课程的课程编号\n",
    "for i in delete_courses:\n",
    "    user.del_course_by_chooseId(i)  # 没有加异常处理，如有需要，请自行添加或选择手动删除课程"
   ]
  },
  {
   "cell_type": "markdown",
   "metadata": {},
   "source": [
    "# 提前找好teachId，使用teachId直接发起抢课请求，不用查询课程找到teachId"
   ]
  },
  {
   "cell_type": "code",
   "execution_count": null,
   "metadata": {},
   "outputs": [],
   "source": [
    "# 待选课程teachId，可以自己标注一下teachId代表的是什么课，便于多个选课返回结果时查看\n",
    "li = [\n",
    "    ('6E7F06ABC5162A03', \"毛概崔晓东\"),\n",
    "]\n",
    "\n",
    "threads = []\n",
    "for teachId, course in li:\n",
    "    t = threading.Thread(target=user.run_select_course_with_teachId, args=(teachId, course))\n",
    "    threads.append(t)\n",
    "# 启动线程\n",
    "for t in threads:\n",
    "    t.start()\n",
    "# for t in threads:\n",
    "#     t.join()"
   ]
  },
  {
   "cell_type": "markdown",
   "metadata": {},
   "source": [
    "# 如果上一个老师一直选不到，要保一下其他的，可以立刻运行下面的备选老师，不用重新登陆，这就是notebook的优点，然后上面的线程就会因为选课冲突而退出"
   ]
  },
  {
   "cell_type": "code",
   "execution_count": null,
   "metadata": {},
   "outputs": [],
   "source": [
    "# 待选课程teachId，可以自己标注一下teachId代表的是什么课，便于多个选课返回结果时查看\n",
    "li = [\n",
    "    ('A6AD1F47C523AF62', \"毛概徐建\"),\n",
    "]\n",
    "\n",
    "threads = []\n",
    "for teachId, course in li:\n",
    "    t = threading.Thread(target=user.run_select_course_with_teachId, args=(teachId, course))\n",
    "    threads.append(t)\n",
    "# 启动线程\n",
    "for t in threads:\n",
    "    t.start()\n",
    "# for t in threads:\n",
    "#     t.join()"
   ]
  },
  {
   "cell_type": "code",
   "execution_count": null,
   "metadata": {},
   "outputs": [],
   "source": [
    "# 优选班选回\n",
    "li = [\n",
    "    ('A2EA0909A9C94651', \"毛概优选老师\"),\n",
    "]\n",
    "\n",
    "threads = []\n",
    "for teachId, course in li:\n",
    "    t = threading.Thread(target=user.run_select_course_with_teachId, args=(teachId, course))\n",
    "    threads.append(t)\n",
    "# 启动线程\n",
    "for t in threads:\n",
    "    t.start()\n",
    "# for t in threads:\n",
    "#     t.join()"
   ]
  },
  {
   "cell_type": "markdown",
   "metadata": {},
   "source": [
    "# 以下为使用chooseId(选课编号)经过查询teachId选课"
   ]
  },
  {
   "cell_type": "code",
   "execution_count": null,
   "metadata": {},
   "outputs": [],
   "source": [
    "# ! 以下为使用chooseId(选课编号)经过查询teachId选课\n",
    "li = ['B1311'] # 毛概崔晓东\n",
    "threads = []\n",
    "for teachId in li:\n",
    "    t = threading.Thread(target=user.run_select_course, args=(teachId,))\n",
    "    threads.append(t)\n",
    "\n",
    "# 启动线程\n",
    "for t in threads:\n",
    "    t.start()\n",
    "# for t in threads:\n",
    "#     t.join()"
   ]
  },
  {
   "cell_type": "code",
   "execution_count": null,
   "metadata": {},
   "outputs": [],
   "source": [
    "li = ['B1317'] # 毛概徐建\n",
    "threads = []\n",
    "for teachId in li:\n",
    "    t = threading.Thread(target=user.run_select_course, args=(teachId,))\n",
    "    threads.append(t)\n",
    "\n",
    "# 启动线程\n",
    "for t in threads:\n",
    "    t.start()\n",
    "# for t in threads:\n",
    "#     t.join()"
   ]
  },
  {
   "cell_type": "code",
   "execution_count": null,
   "metadata": {},
   "outputs": [],
   "source": [
    "li = ['B1323'] # 毛概优选班\n",
    "threads = []\n",
    "for teachId in li:\n",
    "    t = threading.Thread(target=user.run_select_course, args=(teachId,))\n",
    "    threads.append(t)\n",
    "\n",
    "# 启动线程\n",
    "for t in threads:\n",
    "    t.start()\n",
    "# for t in threads:\n",
    "#     t.join()"
   ]
  },
  {
   "cell_type": "code",
   "execution_count": null,
   "metadata": {},
   "outputs": [],
   "source": [
    "# 没什么用的小功能，查询某个课程代码\n",
    "result = user.query_by_course_code('SoFL003911')\n",
    "for i in result:\n",
    "    print(i)\n"
   ]
  },
  {
   "cell_type": "code",
   "execution_count": null,
   "metadata": {},
   "outputs": [],
   "source": []
  }
 ],
 "metadata": {
  "kernelspec": {
   "display_name": "Python 3",
   "language": "python",
   "name": "python3"
  },
  "language_info": {
   "codemirror_mode": {
    "name": "ipython",
    "version": 3
   },
   "file_extension": ".py",
   "mimetype": "text/x-python",
   "name": "python",
   "nbconvert_exporter": "python",
   "pygments_lexer": "ipython3",
   "version": "3.11.0"
  }
 },
 "nbformat": 4,
 "nbformat_minor": 2
}

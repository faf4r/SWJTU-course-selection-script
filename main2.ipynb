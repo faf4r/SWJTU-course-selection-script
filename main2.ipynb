{
 "cells": [
  {
   "cell_type": "code",
   "execution_count": null,
   "metadata": {},
   "outputs": [],
   "source": [
    "from User2 import User\n",
    "from config import *\n",
    "import threading"
   ]
  },
  {
   "cell_type": "code",
   "execution_count": null,
   "metadata": {},
   "outputs": [],
   "source": [
    "# 先创建用户并登录，用jupyter notebook就是为了这里登录后，下面有问题可以快速调整，不重新登陆\n",
    "user = User(username, password, config)"
   ]
  },
  {
   "cell_type": "markdown",
   "metadata": {},
   "source": [
    "# ==以下为使用chooseId(选课编号)经过查询teachId选课=="
   ]
  },
  {
   "cell_type": "code",
   "execution_count": null,
   "metadata": {},
   "outputs": [],
   "source": [
    "# ! 以下为使用chooseId(选课编号)经过查询teachId选课\n",
    "li = [\"B2527\"]  # 项目导向专业课程BI-电磁场与微波技术方向\n",
    "threads = []\n",
    "for teachId in li:\n",
    "    t = threading.Thread(target=user.run_select_course, args=(teachId,))\n",
    "    threads.append(t)\n",
    "\n",
    "# 启动线程\n",
    "for t in threads:\n",
    "    t.start()\n",
    "# for t in threads:\n",
    "#     t.join()"
   ]
  },
  {
   "cell_type": "markdown",
   "metadata": {},
   "source": [
    "# =====使用teachId选课====="
   ]
  },
  {
   "cell_type": "code",
   "execution_count": null,
   "metadata": {},
   "outputs": [],
   "source": [
    "# 待选课程teachId，可以自己标注一下teachId代表的是什么课，便于多个选课返回结果时查看\n",
    "li = [\n",
    "    ('6E7F06ABC5162A03', \"毛概崔晓东\"),\n",
    "]\n",
    "\n",
    "threads = []\n",
    "for teachId, course in li:\n",
    "    t = threading.Thread(target=user.run_select_course_with_teachId, args=(teachId, course))\n",
    "    threads.append(t)\n",
    "# 启动线程\n",
    "for t in threads:\n",
    "    t.start()\n",
    "# for t in threads:\n",
    "#     t.join()"
   ]
  }
 ],
 "metadata": {
  "kernelspec": {
   "display_name": "Python 3",
   "language": "python",
   "name": "python3"
  },
  "language_info": {
   "codemirror_mode": {
    "name": "ipython",
    "version": 3
   },
   "file_extension": ".py",
   "mimetype": "text/x-python",
   "name": "python",
   "nbconvert_exporter": "python",
   "pygments_lexer": "ipython3",
   "version": "3.12.6"
  }
 },
 "nbformat": 4,
 "nbformat_minor": 2
}
